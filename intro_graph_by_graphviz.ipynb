{
 "cells": [
  {
   "cell_type": "code",
   "execution_count": 22,
   "metadata": {},
   "outputs": [
    {
     "data": {
      "text/plain": [
       "'fdpclust.gv.pdf'"
      ]
     },
     "execution_count": 22,
     "metadata": {},
     "output_type": "execute_result"
    }
   ],
   "source": [
    "from graphviz import Graph\n",
    "\n",
    "g = Graph('G', filename='fdpclust.gv', engine='fdp', node_attr={'shape': 'record'})\n",
    "\n",
    "g.node('Graph visualisation tools')\n",
    "\n",
    "with g.subgraph(name='clusterA') as a:\n",
    "    a.node('struct1', 'graph-tools |{ 27.09.17 | no pip}')\n",
    "    a.node('struct2', 'python-igraph |{ 2014 | pip+}')\n",
    "    a.node('struct3', 'Node-Box |{ 08.01.18 | no pip}')\n",
    "    a.node('struct4', 'Gephi |{ 30.09.17 | command line only}')\n",
    "\n",
    "with g.subgraph(name='clusterB') as b:\n",
    "    b.node('struct5','networkx | {09.18 | pip+}')\n",
    "    b.node('struct6','GraphViz | {25.12.16 (Dec 2018) | pip+}')\n",
    "\n",
    "g.edge('Graph visualisation tools', 'clusterA')\n",
    "g.edge('Graph visualisation tools', 'clusterB')\n",
    "\n",
    "g.view()"
   ]
  }
 ],
 "metadata": {
  "kernelspec": {
   "display_name": "Python 3",
   "language": "python",
   "name": "python3"
  },
  "language_info": {
   "codemirror_mode": {
    "name": "ipython",
    "version": 3
   },
   "file_extension": ".py",
   "mimetype": "text/x-python",
   "name": "python",
   "nbconvert_exporter": "python",
   "pygments_lexer": "ipython3",
   "version": "3.7.0"
  }
 },
 "nbformat": 4,
 "nbformat_minor": 2
}
